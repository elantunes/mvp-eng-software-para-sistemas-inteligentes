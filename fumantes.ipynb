{
  "cells": [
    {
      "cell_type": "markdown",
      "metadata": {
        "id": "view-in-github",
        "colab_type": "text"
      },
      "source": [
        "<a href=\"https://colab.research.google.com/github/elantunes/mvp-qualidade-seguranca-sistemasinteligentes/blob/main/fumantes.ipynb\" target=\"_parent\"><img src=\"https://colab.research.google.com/assets/colab-badge.svg\" alt=\"Open In Colab\"/></a>"
      ]
    },
    {
      "cell_type": "markdown",
      "metadata": {
        "id": "i0L3PPyOw0H2"
      },
      "source": [
        "# Engenharia de Sistemas de Software Inteligentes"
      ]
    },
    {
      "cell_type": "markdown",
      "source": [
        "## Imports"
      ],
      "metadata": {
        "id": "qI9fGPxttzFD"
      }
    },
    {
      "cell_type": "code",
      "source": [
        "\"\"\"Módulo para ignorar warnings.\"\"\"\n",
        "import warnings\n",
        "\n",
        "import matplotlib.pyplot as plt\n",
        "import numpy as np\n",
        "import pandas as pd\n",
        "\n",
        "from sklearn.metrics import accuracy_score, precision_score\n",
        "from sklearn.model_selection import cross_val_score\n",
        "from sklearn.model_selection import GridSearchCV\n",
        "from sklearn.model_selection import StratifiedKFold\n",
        "from sklearn.model_selection import train_test_split\n",
        "from sklearn.naive_bayes import GaussianNB\n",
        "from sklearn.neighbors import KNeighborsClassifier\n",
        "from sklearn.pipeline import Pipeline\n",
        "from sklearn.preprocessing import StandardScaler\n",
        "from sklearn.preprocessing import MinMaxScaler\n",
        "from sklearn.svm import SVC\n",
        "from sklearn.tree import DecisionTreeClassifier"
      ],
      "metadata": {
        "id": "QGVyHBVgPEU6"
      },
      "execution_count": 47,
      "outputs": []
    },
    {
      "cell_type": "markdown",
      "source": [
        "##Defs"
      ],
      "metadata": {
        "id": "vbNH4aPdPjMV"
      }
    },
    {
      "cell_type": "code",
      "source": [
        "def arredonda(valor):\n",
        "    \"\"\"Arredonda um float.\"\"\"\n",
        "    return round(valor,4)\n",
        "\n",
        "\n",
        "def predizer(param_dados, param_scaler, param_modelo):\n",
        "    \"\"\"Faz a predição dos valores (0 ou 1)\"\"\"\n",
        "    rescaled = param_scaler.transform(param_dados.reshape(1, -1))\n",
        "    diagnostico = param_modelo.predict(rescaled)\n",
        "    return int(diagnostico[0])"
      ],
      "metadata": {
        "id": "NyjeG4NWQHe_"
      },
      "execution_count": 48,
      "outputs": []
    },
    {
      "cell_type": "markdown",
      "source": [
        "##Carga do Dataset"
      ],
      "metadata": {
        "id": "2fguv8QfQZZi"
      }
    },
    {
      "cell_type": "code",
      "source": [
        "warnings.filterwarnings(\"ignore\")\n",
        "\n",
        "\n",
        "# Carga do dataset\n",
        "print(\"Obtendo o dataset...\")\n",
        "\n",
        "\n",
        "# Informa a URL de importação do dataset\n",
        "URL = 'https://raw.githubusercontent.com/elantunes/mvp-eng-software-para-sistemas-inteligentes/'\\\n",
        "      'main/datasets/fumantes-reduzido.csv'\n",
        "\n",
        "\n",
        "# Lê o arquivo\n",
        "dataset = pd.read_csv(URL, delimiter=',')\n",
        "\n",
        "\n",
        "print(\"Dataset obtido!\\n\")\n",
        "\n",
        "\n",
        "# Mostra as primeiras linhas do dataset\n",
        "dataset.head()"
      ],
      "metadata": {
        "colab": {
          "base_uri": "https://localhost:8080/",
          "height": 327
        },
        "id": "cLadHJz5QgTN",
        "outputId": "b0a4e58d-1a8c-4876-f78f-ba4d76d3cecc"
      },
      "execution_count": 49,
      "outputs": [
        {
          "output_type": "stream",
          "name": "stdout",
          "text": [
            "Obtendo o dataset...\n",
            "Dataset obtido!\n",
            "\n"
          ]
        },
        {
          "output_type": "execute_result",
          "data": {
            "text/plain": [
              "   idade  altura(cm)  peso(kg)  cintura(cm)  visão(esquerda)  visão(direita)  \\\n",
              "0     55         155        60         81.3              1.2             1.0   \n",
              "1     27         160        60         81.0              0.8             0.6   \n",
              "2     69         170        60         80.0              0.8             0.8   \n",
              "3     39         165        70         88.0              1.5             1.5   \n",
              "4     33         155        60         86.0              1.0             1.0   \n",
              "\n",
              "   audição(esquerda)  audição(direita)  sistólica  relaxado  ...    LDL  \\\n",
              "0                1.0               1.0      114.0      73.0  ...  126.0   \n",
              "1                1.0               1.0      119.0      70.0  ...  127.0   \n",
              "2                1.0               1.0      138.0      86.0  ...  151.0   \n",
              "3                1.0               1.0      100.0      60.0  ...  226.0   \n",
              "4                1.0               1.0      120.0      74.0  ...  107.0   \n",
              "\n",
              "   hemoglobina  proteína na urina  creatinina sérica   AST   ALT   Gtp  \\\n",
              "0         12.9                1.0                0.7  18.0  19.0  27.0   \n",
              "1         12.7                1.0                0.6  22.0  19.0  18.0   \n",
              "2         15.8                1.0                1.0  21.0  16.0  22.0   \n",
              "3         14.7                1.0                1.0  19.0  26.0  18.0   \n",
              "4         12.5                1.0                0.6  16.0  14.0  22.0   \n",
              "\n",
              "   cáries dentárias  tártaro  fumante  \n",
              "0                 0        1        0  \n",
              "1                 0        1        0  \n",
              "2                 0        0        1  \n",
              "3                 0        1        0  \n",
              "4                 0        0        0  \n",
              "\n",
              "[5 rows x 24 columns]"
            ],
            "text/html": [
              "\n",
              "  <div id=\"df-c6f592f4-5bc4-48b5-8667-df0ba3753ad5\" class=\"colab-df-container\">\n",
              "    <div>\n",
              "<style scoped>\n",
              "    .dataframe tbody tr th:only-of-type {\n",
              "        vertical-align: middle;\n",
              "    }\n",
              "\n",
              "    .dataframe tbody tr th {\n",
              "        vertical-align: top;\n",
              "    }\n",
              "\n",
              "    .dataframe thead th {\n",
              "        text-align: right;\n",
              "    }\n",
              "</style>\n",
              "<table border=\"1\" class=\"dataframe\">\n",
              "  <thead>\n",
              "    <tr style=\"text-align: right;\">\n",
              "      <th></th>\n",
              "      <th>idade</th>\n",
              "      <th>altura(cm)</th>\n",
              "      <th>peso(kg)</th>\n",
              "      <th>cintura(cm)</th>\n",
              "      <th>visão(esquerda)</th>\n",
              "      <th>visão(direita)</th>\n",
              "      <th>audição(esquerda)</th>\n",
              "      <th>audição(direita)</th>\n",
              "      <th>sistólica</th>\n",
              "      <th>relaxado</th>\n",
              "      <th>...</th>\n",
              "      <th>LDL</th>\n",
              "      <th>hemoglobina</th>\n",
              "      <th>proteína na urina</th>\n",
              "      <th>creatinina sérica</th>\n",
              "      <th>AST</th>\n",
              "      <th>ALT</th>\n",
              "      <th>Gtp</th>\n",
              "      <th>cáries dentárias</th>\n",
              "      <th>tártaro</th>\n",
              "      <th>fumante</th>\n",
              "    </tr>\n",
              "  </thead>\n",
              "  <tbody>\n",
              "    <tr>\n",
              "      <th>0</th>\n",
              "      <td>55</td>\n",
              "      <td>155</td>\n",
              "      <td>60</td>\n",
              "      <td>81.3</td>\n",
              "      <td>1.2</td>\n",
              "      <td>1.0</td>\n",
              "      <td>1.0</td>\n",
              "      <td>1.0</td>\n",
              "      <td>114.0</td>\n",
              "      <td>73.0</td>\n",
              "      <td>...</td>\n",
              "      <td>126.0</td>\n",
              "      <td>12.9</td>\n",
              "      <td>1.0</td>\n",
              "      <td>0.7</td>\n",
              "      <td>18.0</td>\n",
              "      <td>19.0</td>\n",
              "      <td>27.0</td>\n",
              "      <td>0</td>\n",
              "      <td>1</td>\n",
              "      <td>0</td>\n",
              "    </tr>\n",
              "    <tr>\n",
              "      <th>1</th>\n",
              "      <td>27</td>\n",
              "      <td>160</td>\n",
              "      <td>60</td>\n",
              "      <td>81.0</td>\n",
              "      <td>0.8</td>\n",
              "      <td>0.6</td>\n",
              "      <td>1.0</td>\n",
              "      <td>1.0</td>\n",
              "      <td>119.0</td>\n",
              "      <td>70.0</td>\n",
              "      <td>...</td>\n",
              "      <td>127.0</td>\n",
              "      <td>12.7</td>\n",
              "      <td>1.0</td>\n",
              "      <td>0.6</td>\n",
              "      <td>22.0</td>\n",
              "      <td>19.0</td>\n",
              "      <td>18.0</td>\n",
              "      <td>0</td>\n",
              "      <td>1</td>\n",
              "      <td>0</td>\n",
              "    </tr>\n",
              "    <tr>\n",
              "      <th>2</th>\n",
              "      <td>69</td>\n",
              "      <td>170</td>\n",
              "      <td>60</td>\n",
              "      <td>80.0</td>\n",
              "      <td>0.8</td>\n",
              "      <td>0.8</td>\n",
              "      <td>1.0</td>\n",
              "      <td>1.0</td>\n",
              "      <td>138.0</td>\n",
              "      <td>86.0</td>\n",
              "      <td>...</td>\n",
              "      <td>151.0</td>\n",
              "      <td>15.8</td>\n",
              "      <td>1.0</td>\n",
              "      <td>1.0</td>\n",
              "      <td>21.0</td>\n",
              "      <td>16.0</td>\n",
              "      <td>22.0</td>\n",
              "      <td>0</td>\n",
              "      <td>0</td>\n",
              "      <td>1</td>\n",
              "    </tr>\n",
              "    <tr>\n",
              "      <th>3</th>\n",
              "      <td>39</td>\n",
              "      <td>165</td>\n",
              "      <td>70</td>\n",
              "      <td>88.0</td>\n",
              "      <td>1.5</td>\n",
              "      <td>1.5</td>\n",
              "      <td>1.0</td>\n",
              "      <td>1.0</td>\n",
              "      <td>100.0</td>\n",
              "      <td>60.0</td>\n",
              "      <td>...</td>\n",
              "      <td>226.0</td>\n",
              "      <td>14.7</td>\n",
              "      <td>1.0</td>\n",
              "      <td>1.0</td>\n",
              "      <td>19.0</td>\n",
              "      <td>26.0</td>\n",
              "      <td>18.0</td>\n",
              "      <td>0</td>\n",
              "      <td>1</td>\n",
              "      <td>0</td>\n",
              "    </tr>\n",
              "    <tr>\n",
              "      <th>4</th>\n",
              "      <td>33</td>\n",
              "      <td>155</td>\n",
              "      <td>60</td>\n",
              "      <td>86.0</td>\n",
              "      <td>1.0</td>\n",
              "      <td>1.0</td>\n",
              "      <td>1.0</td>\n",
              "      <td>1.0</td>\n",
              "      <td>120.0</td>\n",
              "      <td>74.0</td>\n",
              "      <td>...</td>\n",
              "      <td>107.0</td>\n",
              "      <td>12.5</td>\n",
              "      <td>1.0</td>\n",
              "      <td>0.6</td>\n",
              "      <td>16.0</td>\n",
              "      <td>14.0</td>\n",
              "      <td>22.0</td>\n",
              "      <td>0</td>\n",
              "      <td>0</td>\n",
              "      <td>0</td>\n",
              "    </tr>\n",
              "  </tbody>\n",
              "</table>\n",
              "<p>5 rows × 24 columns</p>\n",
              "</div>\n",
              "    <div class=\"colab-df-buttons\">\n",
              "\n",
              "  <div class=\"colab-df-container\">\n",
              "    <button class=\"colab-df-convert\" onclick=\"convertToInteractive('df-c6f592f4-5bc4-48b5-8667-df0ba3753ad5')\"\n",
              "            title=\"Convert this dataframe to an interactive table.\"\n",
              "            style=\"display:none;\">\n",
              "\n",
              "  <svg xmlns=\"http://www.w3.org/2000/svg\" height=\"24px\" viewBox=\"0 -960 960 960\">\n",
              "    <path d=\"M120-120v-720h720v720H120Zm60-500h600v-160H180v160Zm220 220h160v-160H400v160Zm0 220h160v-160H400v160ZM180-400h160v-160H180v160Zm440 0h160v-160H620v160ZM180-180h160v-160H180v160Zm440 0h160v-160H620v160Z\"/>\n",
              "  </svg>\n",
              "    </button>\n",
              "\n",
              "  <style>\n",
              "    .colab-df-container {\n",
              "      display:flex;\n",
              "      gap: 12px;\n",
              "    }\n",
              "\n",
              "    .colab-df-convert {\n",
              "      background-color: #E8F0FE;\n",
              "      border: none;\n",
              "      border-radius: 50%;\n",
              "      cursor: pointer;\n",
              "      display: none;\n",
              "      fill: #1967D2;\n",
              "      height: 32px;\n",
              "      padding: 0 0 0 0;\n",
              "      width: 32px;\n",
              "    }\n",
              "\n",
              "    .colab-df-convert:hover {\n",
              "      background-color: #E2EBFA;\n",
              "      box-shadow: 0px 1px 2px rgba(60, 64, 67, 0.3), 0px 1px 3px 1px rgba(60, 64, 67, 0.15);\n",
              "      fill: #174EA6;\n",
              "    }\n",
              "\n",
              "    .colab-df-buttons div {\n",
              "      margin-bottom: 4px;\n",
              "    }\n",
              "\n",
              "    [theme=dark] .colab-df-convert {\n",
              "      background-color: #3B4455;\n",
              "      fill: #D2E3FC;\n",
              "    }\n",
              "\n",
              "    [theme=dark] .colab-df-convert:hover {\n",
              "      background-color: #434B5C;\n",
              "      box-shadow: 0px 1px 3px 1px rgba(0, 0, 0, 0.15);\n",
              "      filter: drop-shadow(0px 1px 2px rgba(0, 0, 0, 0.3));\n",
              "      fill: #FFFFFF;\n",
              "    }\n",
              "  </style>\n",
              "\n",
              "    <script>\n",
              "      const buttonEl =\n",
              "        document.querySelector('#df-c6f592f4-5bc4-48b5-8667-df0ba3753ad5 button.colab-df-convert');\n",
              "      buttonEl.style.display =\n",
              "        google.colab.kernel.accessAllowed ? 'block' : 'none';\n",
              "\n",
              "      async function convertToInteractive(key) {\n",
              "        const element = document.querySelector('#df-c6f592f4-5bc4-48b5-8667-df0ba3753ad5');\n",
              "        const dataTable =\n",
              "          await google.colab.kernel.invokeFunction('convertToInteractive',\n",
              "                                                    [key], {});\n",
              "        if (!dataTable) return;\n",
              "\n",
              "        const docLinkHtml = 'Like what you see? Visit the ' +\n",
              "          '<a target=\"_blank\" href=https://colab.research.google.com/notebooks/data_table.ipynb>data table notebook</a>'\n",
              "          + ' to learn more about interactive tables.';\n",
              "        element.innerHTML = '';\n",
              "        dataTable['output_type'] = 'display_data';\n",
              "        await google.colab.output.renderOutput(dataTable, element);\n",
              "        const docLink = document.createElement('div');\n",
              "        docLink.innerHTML = docLinkHtml;\n",
              "        element.appendChild(docLink);\n",
              "      }\n",
              "    </script>\n",
              "  </div>\n",
              "\n",
              "\n",
              "<div id=\"df-acbebbdc-3cb5-42d3-bf60-c1ab4cec0725\">\n",
              "  <button class=\"colab-df-quickchart\" onclick=\"quickchart('df-acbebbdc-3cb5-42d3-bf60-c1ab4cec0725')\"\n",
              "            title=\"Suggest charts\"\n",
              "            style=\"display:none;\">\n",
              "\n",
              "<svg xmlns=\"http://www.w3.org/2000/svg\" height=\"24px\"viewBox=\"0 0 24 24\"\n",
              "     width=\"24px\">\n",
              "    <g>\n",
              "        <path d=\"M19 3H5c-1.1 0-2 .9-2 2v14c0 1.1.9 2 2 2h14c1.1 0 2-.9 2-2V5c0-1.1-.9-2-2-2zM9 17H7v-7h2v7zm4 0h-2V7h2v10zm4 0h-2v-4h2v4z\"/>\n",
              "    </g>\n",
              "</svg>\n",
              "  </button>\n",
              "\n",
              "<style>\n",
              "  .colab-df-quickchart {\n",
              "      --bg-color: #E8F0FE;\n",
              "      --fill-color: #1967D2;\n",
              "      --hover-bg-color: #E2EBFA;\n",
              "      --hover-fill-color: #174EA6;\n",
              "      --disabled-fill-color: #AAA;\n",
              "      --disabled-bg-color: #DDD;\n",
              "  }\n",
              "\n",
              "  [theme=dark] .colab-df-quickchart {\n",
              "      --bg-color: #3B4455;\n",
              "      --fill-color: #D2E3FC;\n",
              "      --hover-bg-color: #434B5C;\n",
              "      --hover-fill-color: #FFFFFF;\n",
              "      --disabled-bg-color: #3B4455;\n",
              "      --disabled-fill-color: #666;\n",
              "  }\n",
              "\n",
              "  .colab-df-quickchart {\n",
              "    background-color: var(--bg-color);\n",
              "    border: none;\n",
              "    border-radius: 50%;\n",
              "    cursor: pointer;\n",
              "    display: none;\n",
              "    fill: var(--fill-color);\n",
              "    height: 32px;\n",
              "    padding: 0;\n",
              "    width: 32px;\n",
              "  }\n",
              "\n",
              "  .colab-df-quickchart:hover {\n",
              "    background-color: var(--hover-bg-color);\n",
              "    box-shadow: 0 1px 2px rgba(60, 64, 67, 0.3), 0 1px 3px 1px rgba(60, 64, 67, 0.15);\n",
              "    fill: var(--button-hover-fill-color);\n",
              "  }\n",
              "\n",
              "  .colab-df-quickchart-complete:disabled,\n",
              "  .colab-df-quickchart-complete:disabled:hover {\n",
              "    background-color: var(--disabled-bg-color);\n",
              "    fill: var(--disabled-fill-color);\n",
              "    box-shadow: none;\n",
              "  }\n",
              "\n",
              "  .colab-df-spinner {\n",
              "    border: 2px solid var(--fill-color);\n",
              "    border-color: transparent;\n",
              "    border-bottom-color: var(--fill-color);\n",
              "    animation:\n",
              "      spin 1s steps(1) infinite;\n",
              "  }\n",
              "\n",
              "  @keyframes spin {\n",
              "    0% {\n",
              "      border-color: transparent;\n",
              "      border-bottom-color: var(--fill-color);\n",
              "      border-left-color: var(--fill-color);\n",
              "    }\n",
              "    20% {\n",
              "      border-color: transparent;\n",
              "      border-left-color: var(--fill-color);\n",
              "      border-top-color: var(--fill-color);\n",
              "    }\n",
              "    30% {\n",
              "      border-color: transparent;\n",
              "      border-left-color: var(--fill-color);\n",
              "      border-top-color: var(--fill-color);\n",
              "      border-right-color: var(--fill-color);\n",
              "    }\n",
              "    40% {\n",
              "      border-color: transparent;\n",
              "      border-right-color: var(--fill-color);\n",
              "      border-top-color: var(--fill-color);\n",
              "    }\n",
              "    60% {\n",
              "      border-color: transparent;\n",
              "      border-right-color: var(--fill-color);\n",
              "    }\n",
              "    80% {\n",
              "      border-color: transparent;\n",
              "      border-right-color: var(--fill-color);\n",
              "      border-bottom-color: var(--fill-color);\n",
              "    }\n",
              "    90% {\n",
              "      border-color: transparent;\n",
              "      border-bottom-color: var(--fill-color);\n",
              "    }\n",
              "  }\n",
              "</style>\n",
              "\n",
              "  <script>\n",
              "    async function quickchart(key) {\n",
              "      const quickchartButtonEl =\n",
              "        document.querySelector('#' + key + ' button');\n",
              "      quickchartButtonEl.disabled = true;  // To prevent multiple clicks.\n",
              "      quickchartButtonEl.classList.add('colab-df-spinner');\n",
              "      try {\n",
              "        const charts = await google.colab.kernel.invokeFunction(\n",
              "            'suggestCharts', [key], {});\n",
              "      } catch (error) {\n",
              "        console.error('Error during call to suggestCharts:', error);\n",
              "      }\n",
              "      quickchartButtonEl.classList.remove('colab-df-spinner');\n",
              "      quickchartButtonEl.classList.add('colab-df-quickchart-complete');\n",
              "    }\n",
              "    (() => {\n",
              "      let quickchartButtonEl =\n",
              "        document.querySelector('#df-acbebbdc-3cb5-42d3-bf60-c1ab4cec0725 button');\n",
              "      quickchartButtonEl.style.display =\n",
              "        google.colab.kernel.accessAllowed ? 'block' : 'none';\n",
              "    })();\n",
              "  </script>\n",
              "</div>\n",
              "    </div>\n",
              "  </div>\n"
            ]
          },
          "metadata": {},
          "execution_count": 49
        }
      ]
    },
    {
      "cell_type": "markdown",
      "source": [
        "## Separação em conjunto de treino e conjunto de teste com holdout"
      ],
      "metadata": {
        "id": "JyJNgy1wRWVl"
      }
    },
    {
      "cell_type": "code",
      "source": [
        "# Separação em conjunto de treino e conjunto de teste com holdout\n",
        "TEST_SIZE = .25 # tamanho do conjunto de teste\n",
        "SEED = 7 # semente aleatória\n",
        "array = dataset.values\n",
        "numero_colunas_dataset = len(dataset.columns)-1\n",
        "\n",
        "X = array[:,0:numero_colunas_dataset]\n",
        "y = array[:,numero_colunas_dataset]\n",
        "\n",
        "X_train, X_test, y_train, y_test = train_test_split(X, y,\n",
        "    test_size=TEST_SIZE, shuffle=True, random_state=SEED, stratify=y) # holdout com estratificação"
      ],
      "metadata": {
        "id": "IJ_PnDsvRYP1"
      },
      "execution_count": 50,
      "outputs": []
    },
    {
      "cell_type": "markdown",
      "source": [
        "##Modelagem e Inferência"
      ],
      "metadata": {
        "id": "KiLNHDh2R7nS"
      }
    },
    {
      "cell_type": "markdown",
      "source": [
        "###Criação e avaliação de modelos: dados normais, padronizados e normalizados (Por causa do SVM este bloco demora uns 2m30s)"
      ],
      "metadata": {
        "id": "RoWL9wT3SzeN"
      }
    },
    {
      "cell_type": "code",
      "source": [
        "# Parâmetros e partições da validação cruzada\n",
        "SCORING = 'accuracy'\n",
        "NUM_PARTICOES = 10\n",
        " # validação cruzada com estratificação\n",
        "kfold = StratifiedKFold(n_splits=NUM_PARTICOES, shuffle=True, random_state=SEED)\n",
        "\n",
        "\n",
        "# Modelagem e Inferência\n",
        "np.random.seed(SEED) # definindo uma semente global\n",
        "\n",
        "\n",
        "# Lista que armazenará os modelos\n",
        "models = []\n",
        "\n",
        "\n",
        "# Listas para armazenar os armazenar os pipelines e os resultados para todas as visões do dataset\n",
        "pipelines = []\n",
        "results = []\n",
        "names = []\n",
        "\n",
        "\n",
        "# Criando os elementos do pipeline\n",
        "\n",
        "# Algoritmos que serão utilizados\n",
        "knn = ('KNN', KNeighborsClassifier())\n",
        "cart = ('CART', DecisionTreeClassifier(criterion='entropy'))\n",
        "naive_bayes = ('NB', GaussianNB())\n",
        "svm = ('SVM', SVC())\n",
        "\n",
        "# Transformações que serão utilizadas\n",
        "standard_scaler = ('StandardScaler', StandardScaler())\n",
        "min_max_scaler = ('MinMaxScaler', MinMaxScaler())\n",
        "\n",
        "\n",
        "# Montando os pipelines\n",
        "\n",
        "# Dataset original\n",
        "pipelines.append(('KNN', Pipeline([knn])))\n",
        "pipelines.append(('CART', Pipeline([cart])))\n",
        "pipelines.append(('NB', Pipeline([naive_bayes])))\n",
        "pipelines.append(('SVM', Pipeline([svm])))\n",
        "\n",
        "# Dataset Padronizado\n",
        "pipelines.append(('KNN-padr', Pipeline([standard_scaler, knn])))\n",
        "pipelines.append(('CART-padr', Pipeline([standard_scaler, cart])))\n",
        "pipelines.append(('NB-padr', Pipeline([standard_scaler, naive_bayes])))\n",
        "pipelines.append(('SVM-padr', Pipeline([standard_scaler, svm])))\n",
        "\n",
        "# Dataset Normalizado\n",
        "pipelines.append(('KNN-norm', Pipeline([min_max_scaler, knn])))\n",
        "pipelines.append(('CART-norm', Pipeline([min_max_scaler, cart])))\n",
        "pipelines.append(('NB-norm', Pipeline([min_max_scaler, naive_bayes])))\n",
        "pipelines.append(('SVM-norm', Pipeline([min_max_scaler, svm])))\n",
        "\n",
        "\n",
        "# Executando os pipelines\n",
        "for name, model in pipelines:\n",
        "    cv_results = cross_val_score(model, X, y, cv=kfold, scoring=SCORING)\n",
        "    results.append(cv_results)\n",
        "    names.append(name)\n",
        "    msg = f'{name}\\t {arredonda(cv_results.mean())}\\t {arredonda(cv_results.std())}'\n",
        "    print(msg)\n",
        "\n",
        "print('\\n')\n",
        "\n",
        "# Boxplot de comparação dos modelos\n",
        "fig = plt.figure(figsize=(25,6))\n",
        "fig.suptitle('Comparação dos Modelos - Dataset orginal, padronizado e normalizado')\n",
        "ax = fig.add_subplot(111)\n",
        "plt.boxplot(results)\n",
        "ax.set_xticklabels(names, rotation=90)\n",
        "plt.show()"
      ],
      "metadata": {
        "colab": {
          "base_uri": "https://localhost:8080/",
          "height": 835
        },
        "id": "FwR4bNjBTKpn",
        "outputId": "94ee5d07-1f57-44e8-beb0-5e03f8968c53"
      },
      "execution_count": 51,
      "outputs": [
        {
          "output_type": "stream",
          "name": "stdout",
          "text": [
            "KNN\t 0.677\t 0.0083\n",
            "CART\t 0.6809\t 0.0184\n",
            "NB\t 0.7005\t 0.0156\n",
            "SVM\t 0.7173\t 0.0121\n",
            "KNN-padr\t 0.6958\t 0.0111\n",
            "CART-padr\t 0.6839\t 0.0176\n",
            "NB-padr\t 0.7005\t 0.0156\n",
            "SVM-padr\t 0.7418\t 0.017\n",
            "KNN-norm\t 0.6828\t 0.0147\n",
            "CART-norm\t 0.6835\t 0.0175\n",
            "NB-norm\t 0.7005\t 0.0156\n",
            "SVM-norm\t 0.7283\t 0.0159\n",
            "\n",
            "\n"
          ]
        },
        {
          "output_type": "display_data",
          "data": {
            "text/plain": [
              "<Figure size 2500x600 with 1 Axes>"
            ],
            "image/png": "[encoded data removed]"
          },
          "metadata": {}
        }
      ]
    },
    {
      "cell_type": "markdown",
      "source": [
        "###Otimização dos hiperparâmetros"
      ],
      "metadata": {
        "id": "K3RoLYadTybh"
      }
    },
    {
      "cell_type": "code",
      "source": [
        "# Otimização dos hiperparâmetros\n",
        "\n",
        "# Tuning do CART\n",
        "\n",
        "pipelines = []\n",
        "\n",
        "# Definindo os componentes do pipeline\n",
        "cart = ('CART', DecisionTreeClassifier())\n",
        "standard_scaler = ('StandardScaler', StandardScaler())\n",
        "min_max_scaler = ('MinMaxScaler', MinMaxScaler())\n",
        "\n",
        "pipelines.append(('cart-orig', Pipeline(steps=[cart])))\n",
        "pipelines.append(('cart-padr', Pipeline(steps=[standard_scaler, cart])))\n",
        "pipelines.append(('cart-norm', Pipeline(steps=[min_max_scaler, cart])))\n",
        "\n",
        "param_grid = { 'CART__criterion' : ['entropy'] }\n",
        "\n",
        "# Prepara e executa o GridSearchCV\n",
        "for name, model in pipelines:\n",
        "    grid = GridSearchCV(estimator=model, param_grid=param_grid, scoring=SCORING, cv=kfold)\n",
        "    grid.fit(X_train, y_train)\n",
        "    #imprime a melhor configuração\n",
        "    print(f'Sem tratamento de missings: {name} - '\\\n",
        "        f'Melhor: {arredonda(grid.best_score_)} usando: {grid.best_params_}')"
      ],
      "metadata": {
        "colab": {
          "base_uri": "https://localhost:8080/"
        },
        "id": "wFoq-CntT_1a",
        "outputId": "88b53cf4-7b6e-489a-dea5-93cb9f13e3a1"
      },
      "execution_count": 52,
      "outputs": [
        {
          "output_type": "stream",
          "name": "stdout",
          "text": [
            "Sem tratamento de missings: cart-orig - Melhor: 0.6757 usando: {'CART__criterion': 'entropy'}\n",
            "Sem tratamento de missings: cart-padr - Melhor: 0.6732 usando: {'CART__criterion': 'entropy'}\n",
            "Sem tratamento de missings: cart-norm - Melhor: 0.6797 usando: {'CART__criterion': 'entropy'}\n"
          ]
        }
      ]
    },
    {
      "cell_type": "markdown",
      "source": [
        "###Finalização do Modelo"
      ],
      "metadata": {
        "id": "K-qWomwdUeq8"
      }
    },
    {
      "cell_type": "code",
      "source": [
        "# Finalização do Modelo\n",
        "\n",
        "# CART ###########################################################################################\n",
        "\n",
        "# Preparação do modelo de treino\n",
        "scaler = MinMaxScaler().fit(X_train) # ajuste do scaler com o conjunto de treino\n",
        "\n",
        "# aplicação da normalização no conjunto de treino\n",
        "rescaledX = scaler.transform(X_train)\n",
        "\n",
        "# aplicação da hiperparametrização no conjunto de treino\n",
        "modelCart = DecisionTreeClassifier(criterion='entropy')\n",
        "\n",
        "modelCart.fit(rescaledX, y_train)"
      ],
      "metadata": {
        "colab": {
          "base_uri": "https://localhost:8080/",
          "height": 75
        },
        "id": "kIKiHrPmU0pG",
        "outputId": "96a7d999-daae-44da-88b8-02b55e8e2699"
      },
      "execution_count": 53,
      "outputs": [
        {
          "output_type": "execute_result",
          "data": {
            "text/plain": [
              "DecisionTreeClassifier(criterion='entropy')"
            ],
            "text/html": [
              "<style>#sk-container-id-5 {color: black;background-color: white;}#sk-container-id-5 pre{padding: 0;}#sk-container-id-5 div.sk-toggleable {background-color: white;}#sk-container-id-5 label.sk-toggleable__label {cursor: pointer;display: block;width: 100%;margin-bottom: 0;padding: 0.3em;box-sizing: border-box;text-align: center;}#sk-container-id-5 label.sk-toggleable__label-arrow:before {content: \"▸\";float: left;margin-right: 0.25em;color: #696969;}#sk-container-id-5 label.sk-toggleable__label-arrow:hover:before {color: black;}#sk-container-id-5 div.sk-estimator:hover label.sk-toggleable__label-arrow:before {color: black;}#sk-container-id-5 div.sk-toggleable__content {max-height: 0;max-width: 0;overflow: hidden;text-align: left;background-color: #f0f8ff;}#sk-container-id-5 div.sk-toggleable__content pre {margin: 0.2em;color: black;border-radius: 0.25em;background-color: #f0f8ff;}#sk-container-id-5 input.sk-toggleable__control:checked~div.sk-toggleable__content {max-height: 200px;max-width: 100%;overflow: auto;}#sk-container-id-5 input.sk-toggleable__control:checked~label.sk-toggleable__label-arrow:before {content: \"▾\";}#sk-container-id-5 div.sk-estimator input.sk-toggleable__control:checked~label.sk-toggleable__label {background-color: #d4ebff;}#sk-container-id-5 div.sk-label input.sk-toggleable__control:checked~label.sk-toggleable__label {background-color: #d4ebff;}#sk-container-id-5 input.sk-hidden--visually {border: 0;clip: rect(1px 1px 1px 1px);clip: rect(1px, 1px, 1px, 1px);height: 1px;margin: -1px;overflow: hidden;padding: 0;position: absolute;width: 1px;}#sk-container-id-5 div.sk-estimator {font-family: monospace;background-color: #f0f8ff;border: 1px dotted black;border-radius: 0.25em;box-sizing: border-box;margin-bottom: 0.5em;}#sk-container-id-5 div.sk-estimator:hover {background-color: #d4ebff;}#sk-container-id-5 div.sk-parallel-item::after {content: \"\";width: 100%;border-bottom: 1px solid gray;flex-grow: 1;}#sk-container-id-5 div.sk-label:hover label.sk-toggleable__label {background-color: #d4ebff;}#sk-container-id-5 div.sk-serial::before {content: \"\";position: absolute;border-left: 1px solid gray;box-sizing: border-box;top: 0;bottom: 0;left: 50%;z-index: 0;}#sk-container-id-5 div.sk-serial {display: flex;flex-direction: column;align-items: center;background-color: white;padding-right: 0.2em;padding-left: 0.2em;position: relative;}#sk-container-id-5 div.sk-item {position: relative;z-index: 1;}#sk-container-id-5 div.sk-parallel {display: flex;align-items: stretch;justify-content: center;background-color: white;position: relative;}#sk-container-id-5 div.sk-item::before, #sk-container-id-5 div.sk-parallel-item::before {content: \"\";position: absolute;border-left: 1px solid gray;box-sizing: border-box;top: 0;bottom: 0;left: 50%;z-index: -1;}#sk-container-id-5 div.sk-parallel-item {display: flex;flex-direction: column;z-index: 1;position: relative;background-color: white;}#sk-container-id-5 div.sk-parallel-item:first-child::after {align-self: flex-end;width: 50%;}#sk-container-id-5 div.sk-parallel-item:last-child::after {align-self: flex-start;width: 50%;}#sk-container-id-5 div.sk-parallel-item:only-child::after {width: 0;}#sk-container-id-5 div.sk-dashed-wrapped {border: 1px dashed gray;margin: 0 0.4em 0.5em 0.4em;box-sizing: border-box;padding-bottom: 0.4em;background-color: white;}#sk-container-id-5 div.sk-label label {font-family: monospace;font-weight: bold;display: inline-block;line-height: 1.2em;}#sk-container-id-5 div.sk-label-container {text-align: center;}#sk-container-id-5 div.sk-container {/* jupyter's `normalize.less` sets `[hidden] { display: none; }` but bootstrap.min.css set `[hidden] { display: none !important; }` so we also need the `!important` here to be able to override the default hidden behavior on the sphinx rendered scikit-learn.org. See: https://github.com/scikit-learn/scikit-learn/issues/21755 */display: inline-block !important;position: relative;}#sk-container-id-5 div.sk-text-repr-fallback {display: none;}</style><div id=\"sk-container-id-5\" class=\"sk-top-container\"><div class=\"sk-text-repr-fallback\"><pre>DecisionTreeClassifier(criterion=&#x27;entropy&#x27;)</pre><b>In a Jupyter environment, please rerun this cell to show the HTML representation or trust the notebook. <br />On GitHub, the HTML representation is unable to render, please try loading this page with nbviewer.org.</b></div><div class=\"sk-container\" hidden><div class=\"sk-item\"><div class=\"sk-estimator sk-toggleable\"><input class=\"sk-toggleable__control sk-hidden--visually\" id=\"sk-estimator-id-5\" type=\"checkbox\" checked><label for=\"sk-estimator-id-5\" class=\"sk-toggleable__label sk-toggleable__label-arrow\">DecisionTreeClassifier</label><div class=\"sk-toggleable__content\"><pre>DecisionTreeClassifier(criterion=&#x27;entropy&#x27;)</pre></div></div></div></div></div>"
            ]
          },
          "metadata": {},
          "execution_count": 53
        }
      ]
    },
    {
      "cell_type": "markdown",
      "source": [
        "##Estimativas de acurácias dos conjuntos"
      ],
      "metadata": {
        "id": "wB8pZzudU3v4"
      }
    },
    {
      "cell_type": "markdown",
      "source": [
        "###CART"
      ],
      "metadata": {
        "id": "F3rg2gpAVnnc"
      }
    },
    {
      "cell_type": "code",
      "source": [
        "# Estimativa da acurácia no conjunto de teste\n",
        "rescaledTestX = scaler.transform(X_test) # aplicação da normalização no conjunto de teste\n",
        "predictions = modelCart.predict(rescaledTestX)\n",
        "print('Estimativas do dataset de teste usando CART:')\n",
        "print(f'Acurácia\\t {accuracy_score(y_test, predictions)}')\n",
        "print(f'Precisão\\t {arredonda(precision_score(y_test, predictions))}')\n",
        "print('\\n')\n",
        "\n",
        "# Estimativa da acurácia no conjunto de TODO dataset\n",
        "rescaledX = scaler.transform(X) # aplicação da padronização no conjunto de todo dataset\n",
        "predictions = modelCart.predict(rescaledX)\n",
        "print('Estimativas do dataset completo usando CART:')\n",
        "print(f'Acurácia\\t {accuracy_score(y, predictions)}')\n",
        "print(f'Precisão\\t {arredonda(precision_score(y, predictions))}')"
      ],
      "metadata": {
        "colab": {
          "base_uri": "https://localhost:8080/"
        },
        "id": "MurLlDSsVFF3",
        "outputId": "6303f281-4fa7-494a-f789-6975596510fd"
      },
      "execution_count": 54,
      "outputs": [
        {
          "output_type": "stream",
          "name": "stdout",
          "text": [
            "Estimativas do dataset de teste usando CART:\n",
            "Acurácia\t 0.6504\n",
            "Precisão\t 0.5155\n",
            "\n",
            "\n",
            "Estimativas do dataset completo usando CART:\n",
            "Acurácia\t 0.9126\n",
            "Precisão\t 0.8726\n"
          ]
        }
      ]
    },
    {
      "cell_type": "markdown",
      "source": [
        "###SVM"
      ],
      "metadata": {
        "id": "tcynMoQ-VyNL"
      }
    },
    {
      "cell_type": "code",
      "source": [
        "# Preparação do modelo de treino\n",
        "scaler = StandardScaler().fit(X_train) # ajuste do scaler com o conjunto de treino\n",
        "rescaledX = scaler.transform(X_train) # aplicação da normalização no conjunto de treino\n",
        "modelSVM = SVC()\n",
        "modelSVM.fit(rescaledX, y_train)\n",
        "\n",
        "\n",
        "# Estimativa da acurácia no conjunto de teste\n",
        "rescaledTestX = scaler.transform(X_test) # aplicação da normalização no conjunto de teste\n",
        "predictions = modelSVM.predict(rescaledTestX)\n",
        "print('Estimativas do dataset de teste usando SVM:')\n",
        "print(f'Acurácia\\t {accuracy_score(y_test, predictions)}')\n",
        "print(f'Precisão\\t {arredonda(precision_score(y_test, predictions))}')\n",
        "\n",
        "\n",
        "# Estimativa da acurácia no conjunto de TODO dataset\n",
        "rescaledX = scaler.transform(X) # aplicação da padronização no conjunto de todo dataset\n",
        "predictions = modelSVM.predict(rescaledX)\n",
        "print('Estimativas do dataset completo usando SVM:')\n",
        "print(f'Acurácia\\t {accuracy_score(y, predictions)}')\n",
        "print(f'Precisão\\t {arredonda(precision_score(y, predictions))}')\n",
        "print('\\n')"
      ],
      "metadata": {
        "colab": {
          "base_uri": "https://localhost:8080/"
        },
        "id": "Qr0XcZ7QV3FU",
        "outputId": "75ed921c-5bc0-4b3a-ee7d-94b565fd05ca"
      },
      "execution_count": 55,
      "outputs": [
        {
          "output_type": "stream",
          "name": "stdout",
          "text": [
            "Estimativas do dataset de teste usando SVM:\n",
            "Acurácia\t 0.7308\n",
            "Precisão\t 0.6407\n",
            "Estimativas do dataset completo usando SVM:\n",
            "Acurácia\t 0.7775\n",
            "Precisão\t 0.7116\n",
            "\n",
            "\n"
          ]
        }
      ]
    },
    {
      "cell_type": "markdown",
      "source": [
        "##Simulando a aplicação do modelo em dados não vistos utilizando o CART"
      ],
      "metadata": {
        "id": "UHOQd7kJV_r8"
      }
    },
    {
      "cell_type": "code",
      "source": [
        "# CART\n",
        "scaler = MinMaxScaler().fit(X_train) # ajuste do scaler com o conjunto de treino\n",
        "model = modelCart\n",
        "\n",
        "X_input = np.array([27,160,60,81,.8,.6,1,1,119,70,130,192,115,42,127,12.7,1,\n",
        "                    .6,22,19,18,0,1])\n",
        "diagnosis = predizer(X_input, scaler, model)\n",
        "print(f'#1\\t {int(X_input[0])}\\t Esperado:0\\t Atingido:{diagnosis}')\n",
        "\n",
        "X_input = np.array([69,170,60,80,.8,.8,1,1,138,86,89,242,182,55,151,15.8,1,1,\n",
        "                    21,16,22,0,0])\n",
        "diagnosis = predizer(X_input, scaler, model)\n",
        "print(f'#2\\t {int(X_input[0])}\\t Esperado:1\\t Atingido:{diagnosis}')\n",
        "\n",
        "X_input = np.array([82,150,65,81.5,1.2,1.2,1,1,134,86,86,238,117,63,152,12,1,\n",
        "                    0.9,19,11,16,0,0])\n",
        "diagnosis = predizer(X_input, scaler, model)\n",
        "print(f'#3\\t {int(X_input[0])}\\t Esperado:0\\t Atingido:{diagnosis}')\n",
        "\n",
        "X_input = np.array([31,160,60,86,.7,.6,1,1,133,80,139,223,151,44,149,16.3,1,\n",
        "                    1.1,26,34,38,0,1])\n",
        "diagnosis = predizer(X_input, scaler, model)\n",
        "print(f'#4\\t {int(X_input[0])}\\t Esperado:1\\t Atingido:{diagnosis}')\n",
        "\n",
        "X_input = np.array([71,165,65,84,1,1,1,1,120,76,95,235,132,52,166,13.7,4,.9,\n",
        "                    29,24,13,0,0])\n",
        "diagnosis = predizer(X_input, scaler, model)\n",
        "print(f'#5\\t {int(X_input[0])}\\t Esperado:0\\t Atingido:{diagnosis}')\n"
      ],
      "metadata": {
        "colab": {
          "base_uri": "https://localhost:8080/"
        },
        "id": "mVJ6ypG4NvIF",
        "outputId": "9f01df70-8151-493a-fb58-7caa7a5c6c8b"
      },
      "execution_count": 57,
      "outputs": [
        {
          "output_type": "stream",
          "name": "stdout",
          "text": [
            "#1\t 27\t Esperado:0\t Atingido:0\n",
            "#2\t 69\t Esperado:1\t Atingido:1\n",
            "#3\t 82\t Esperado:0\t Atingido:0\n",
            "#4\t 31\t Esperado:1\t Atingido:1\n",
            "#5\t 71\t Esperado:0\t Atingido:0\n"
          ]
        }
      ]
    },
    {
      "cell_type": "markdown",
      "source": [
        "O modelo criado com algoritmo Support Vector Machine (SVM) padronizado  mostrou-se com a mais alta taxa de acurácia quando submetido ao dataset de teste. Atingindo o valor de acurácia de 0,73.\n",
        "\n",
        "Porém quando o modelo foi criado com algorito de Árvore de Decisão (utilizando o critério de Entropia) e foi submetido aos dados do dataset completo a taxa de acurácia alcancou 0,9126."
      ],
      "metadata": {
        "id": "7h32lP7cfXOw"
      }
    }
  ],
  "metadata": {
    "colab": {
      "provenance": [],
      "collapsed_sections": [
        "qI9fGPxttzFD",
        "vbNH4aPdPjMV",
        "2fguv8QfQZZi",
        "JyJNgy1wRWVl"
      ],
      "authorship_tag": "ABX9TyMwH4ysJXED/E1owIfdU5hH",
      "include_colab_link": true
    },
    "kernelspec": {
      "display_name": "Python 3",
      "name": "python3"
    },
    "language_info": {
      "name": "python"
    }
  },
  "nbformat": 4,
  "nbformat_minor": 0
}